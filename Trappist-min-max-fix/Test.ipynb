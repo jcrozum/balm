{
 "cells": [
  {
   "cell_type": "markdown",
   "id": "4d42c676",
   "metadata": {},
   "source": [
    "# Initialization"
   ]
  },
  {
   "cell_type": "code",
   "execution_count": 1,
   "id": "9ba747d0",
   "metadata": {},
   "outputs": [
    {
     "data": {
      "text/plain": [
       "<Handlers.SIG_DFL: 0>"
      ]
     },
     "execution_count": 1,
     "metadata": {},
     "output_type": "execute_result"
    }
   ],
   "source": [
    "import os\n",
    "from pathlib import Path\n",
    "import signal\n",
    "import time\n",
    "import sys\n",
    "\n",
    "# PyBoolNet initialization\n",
    "from pyboolnet.repository import get_all_names, get_bnet\n",
    "from pyboolnet.file_exchange import bnet2primes\n",
    "from pyboolnet.trap_spaces import compute_trap_spaces, compute_steady_states\n",
    "\n",
    "# trappist init\n",
    "import trappist\n",
    "\n",
    "# timeout with signals\n",
    "class TimeOutException(Exception):\n",
    "   pass\n",
    "\n",
    "def handler(_signnum, _frame):\n",
    "    print(\"Timeout\")\n",
    "    raise TimeOutException()\n",
    "    raise AssertionError()\n",
    "    raise KeyboardInterrupt()\n",
    "    \n",
    "signal.signal(signal.SIGALRM, handler)"
   ]
  },
  {
   "cell_type": "code",
   "execution_count": 3,
   "id": "8f55c541",
   "metadata": {},
   "outputs": [],
   "source": [
    "# compute trap spaces using PyBoolNet\n",
    "def bench_pyboolnet(models, max=1000, timeout=120, computation=\"min\"):\n",
    "    for model in models:\n",
    "        print(model)\n",
    "        primes = None\n",
    "        signal.alarm(timeout)\n",
    "        try:\n",
    "            start = time.perf_counter()\n",
    "            primes = bnet2primes(model + \".bnet\")\n",
    "            if computation == \"fix\":\n",
    "                tspaces = compute_steady_states(primes, max_output=max)\n",
    "            else:\n",
    "                tspaces = compute_trap_spaces(primes, type_=computation, max_output=max)\n",
    "            end = time.perf_counter()\n",
    "            print(f\"{len(tspaces)} trap spaces {end - start:.2f}\\n===\")\n",
    "        except:\n",
    "            print(f\"DNF{'(bnet2primes)' if primes is None else ''}\\n===\")\n",
    "        signal.alarm(0)"
   ]
  },
  {
   "cell_type": "code",
   "execution_count": 4,
   "id": "ff274323",
   "metadata": {},
   "outputs": [],
   "source": [
    "# compute trap spaces using trappist\n",
    "def bench_trappist(models, max=1000, timeout=120, method=\"asp\", computation=\"min\", time_reversal=\"0\"):\n",
    "    for model in models:\n",
    "        print(model)\n",
    "        signal.alarm(timeout)\n",
    "        try:\n",
    "            start = time.process_time()\n",
    "            tspaces = trappist.compute_trap_spaces(model + \".bnet\", max_output=max, method=method, computation=computation, time_reversal=time_reversal)\n",
    "            print(f\"{len(list(tspaces))} trap spaces {time.process_time() - start:.2f}\\n===\")\n",
    "        except TimeOutException:\n",
    "            print(\"DNF\\n===\")\n",
    "        signal.alarm(0)"
   ]
  },
  {
   "cell_type": "markdown",
   "id": "645d664f",
   "metadata": {},
   "source": [
    "## Real models from our biology partner"
   ]
  },
  {
   "cell_type": "code",
   "execution_count": 5,
   "id": "6ca3c81b",
   "metadata": {},
   "outputs": [],
   "source": [
    "# all models from the trappist's benchmark directory\n",
    "models = [str(Path().absolute() / \"models\" / name[:-5]) for name in os.listdir(\"models\") if name.endswith(\".bnet\")]"
   ]
  },
  {
   "cell_type": "code",
   "execution_count": 6,
   "id": "2458786b",
   "metadata": {},
   "outputs": [
    {
     "name": "stdout",
     "output_type": "stream",
     "text": [
      "/home/giang-trinh/git_repo/nfvs-motifs/Trappist-min-max-fix/models/A_model\n",
      "Compute max. trap spaces\n",
      "2 trap spaces 0.07\n",
      "===\n",
      "/home/giang-trinh/git_repo/nfvs-motifs/Trappist-min-max-fix/models/EMT\n",
      "Compute max. trap spaces\n",
      "26 trap spaces 0.01\n",
      "===\n",
      "/home/giang-trinh/git_repo/nfvs-motifs/Trappist-min-max-fix/models/CASCADE2\n",
      "Compute max. trap spaces\n",
      "1 trap spaces 0.05\n",
      "===\n",
      "/home/giang-trinh/git_repo/nfvs-motifs/Trappist-min-max-fix/models/CASCADE1\n",
      "Compute max. trap spaces\n",
      "No max. trap spaces\n",
      "0 trap spaces 0.02\n",
      "===\n",
      "/home/giang-trinh/git_repo/nfvs-motifs/Trappist-min-max-fix/models/CASCADE3\n",
      "Compute max. trap spaces\n",
      "4 trap spaces 0.09\n",
      "===\n"
     ]
    }
   ],
   "source": [
    "bench_trappist(models, max=1000, timeout=120, method=\"asp\", computation=\"max\", time_reversal=\"0\")"
   ]
  },
  {
   "cell_type": "code",
   "execution_count": 7,
   "id": "a8fa818d",
   "metadata": {},
   "outputs": [
    {
     "name": "stdout",
     "output_type": "stream",
     "text": [
      "/home/giang-trinh/git_repo/nfvs-motifs/Trappist-min-max-fix/models/A_model\n",
      "Compute min. trap spaces\n",
      "2 trap spaces 0.07\n",
      "===\n",
      "/home/giang-trinh/git_repo/nfvs-motifs/Trappist-min-max-fix/models/EMT\n",
      "Compute min. trap spaces\n",
      "268 trap spaces 0.05\n",
      "===\n",
      "/home/giang-trinh/git_repo/nfvs-motifs/Trappist-min-max-fix/models/CASCADE2\n",
      "Compute min. trap spaces\n",
      "1 trap spaces 0.03\n",
      "===\n",
      "/home/giang-trinh/git_repo/nfvs-motifs/Trappist-min-max-fix/models/CASCADE1\n",
      "Compute min. trap spaces\n",
      "1 trap spaces 0.01\n",
      "===\n",
      "/home/giang-trinh/git_repo/nfvs-motifs/Trappist-min-max-fix/models/CASCADE3\n",
      "Compute min. trap spaces\n",
      "1 trap spaces 0.08\n",
      "===\n"
     ]
    }
   ],
   "source": [
    "bench_trappist(models, max=1000, timeout=120, method=\"asp\", computation=\"min\", time_reversal=\"0\")"
   ]
  },
  {
   "cell_type": "code",
   "execution_count": 8,
   "id": "4bf5f4c7",
   "metadata": {},
   "outputs": [
    {
     "name": "stdout",
     "output_type": "stream",
     "text": [
      "/home/giang-trinh/git_repo/nfvs-motifs/Trappist-min-max-fix/models/A_model\n",
      "Compute fixed points\n",
      "No fixed points\n",
      "0 trap spaces 0.07\n",
      "===\n",
      "/home/giang-trinh/git_repo/nfvs-motifs/Trappist-min-max-fix/models/EMT\n",
      "Compute fixed points\n",
      "268 trap spaces 0.06\n",
      "===\n",
      "/home/giang-trinh/git_repo/nfvs-motifs/Trappist-min-max-fix/models/CASCADE2\n",
      "Compute fixed points\n",
      "No fixed points\n",
      "0 trap spaces 0.06\n",
      "===\n",
      "/home/giang-trinh/git_repo/nfvs-motifs/Trappist-min-max-fix/models/CASCADE1\n",
      "Compute fixed points\n",
      "No fixed points\n",
      "0 trap spaces 0.01\n",
      "===\n",
      "/home/giang-trinh/git_repo/nfvs-motifs/Trappist-min-max-fix/models/CASCADE3\n",
      "Compute fixed points\n",
      "No fixed points\n",
      "0 trap spaces 0.06\n",
      "===\n"
     ]
    }
   ],
   "source": [
    "bench_trappist(models, max=1000, timeout=120, method=\"asp\", computation=\"fix\", time_reversal=\"0\")"
   ]
  },
  {
   "cell_type": "code",
   "execution_count": 9,
   "id": "6f4a2d1d",
   "metadata": {},
   "outputs": [
    {
     "name": "stdout",
     "output_type": "stream",
     "text": [
      "/home/giang-trinh/git_repo/nfvs-motifs/Trappist-min-max-fix/models/A_model\n",
      "Compute max. trap spaces\n",
      "6 trap spaces 0.07\n",
      "===\n",
      "/home/giang-trinh/git_repo/nfvs-motifs/Trappist-min-max-fix/models/EMT\n",
      "Compute max. trap spaces\n",
      "23 trap spaces 0.03\n",
      "===\n",
      "/home/giang-trinh/git_repo/nfvs-motifs/Trappist-min-max-fix/models/CASCADE2\n",
      "Compute max. trap spaces\n",
      "8 trap spaces 0.08\n",
      "===\n",
      "/home/giang-trinh/git_repo/nfvs-motifs/Trappist-min-max-fix/models/CASCADE1\n",
      "Compute max. trap spaces\n",
      "4 trap spaces 0.01\n",
      "===\n",
      "/home/giang-trinh/git_repo/nfvs-motifs/Trappist-min-max-fix/models/CASCADE3\n",
      "Compute max. trap spaces\n",
      "8 trap spaces 0.09\n",
      "===\n"
     ]
    }
   ],
   "source": [
    "bench_trappist(models, max=1000, timeout=120, method=\"asp\", computation=\"max\", time_reversal=\"1\")"
   ]
  },
  {
   "cell_type": "code",
   "execution_count": 10,
   "id": "79261629",
   "metadata": {},
   "outputs": [
    {
     "name": "stdout",
     "output_type": "stream",
     "text": [
      "/home/giang-trinh/git_repo/nfvs-motifs/Trappist-min-max-fix/models/A_model\n",
      "Compute min. trap spaces\n",
      "2 trap spaces 0.02\n",
      "===\n",
      "/home/giang-trinh/git_repo/nfvs-motifs/Trappist-min-max-fix/models/EMT\n",
      "Compute min. trap spaces\n",
      "1000 trap spaces 0.06\n",
      "===\n",
      "/home/giang-trinh/git_repo/nfvs-motifs/Trappist-min-max-fix/models/CASCADE2\n",
      "Compute min. trap spaces\n",
      "1 trap spaces 0.04\n",
      "===\n",
      "/home/giang-trinh/git_repo/nfvs-motifs/Trappist-min-max-fix/models/CASCADE1\n",
      "Compute min. trap spaces\n",
      "1 trap spaces 0.01\n",
      "===\n",
      "/home/giang-trinh/git_repo/nfvs-motifs/Trappist-min-max-fix/models/CASCADE3\n",
      "Compute min. trap spaces\n",
      "1 trap spaces 0.12\n",
      "===\n"
     ]
    }
   ],
   "source": [
    "bench_trappist(models, max=1000, timeout=120, method=\"asp\", computation=\"min\", time_reversal=\"1\")"
   ]
  },
  {
   "cell_type": "code",
   "execution_count": 11,
   "id": "1ea5284c",
   "metadata": {},
   "outputs": [
    {
     "name": "stdout",
     "output_type": "stream",
     "text": [
      "/home/giang-trinh/git_repo/nfvs-motifs/Trappist-min-max-fix/models/A_model\n",
      "Compute fixed points\n",
      "No fixed points\n",
      "0 trap spaces 0.07\n",
      "===\n",
      "/home/giang-trinh/git_repo/nfvs-motifs/Trappist-min-max-fix/models/EMT\n",
      "Compute fixed points\n",
      "1000 trap spaces 0.12\n",
      "===\n",
      "/home/giang-trinh/git_repo/nfvs-motifs/Trappist-min-max-fix/models/CASCADE2\n",
      "Compute fixed points\n",
      "1 trap spaces 0.04\n",
      "===\n",
      "/home/giang-trinh/git_repo/nfvs-motifs/Trappist-min-max-fix/models/CASCADE1\n",
      "Compute fixed points\n",
      "No fixed points\n",
      "0 trap spaces 0.01\n",
      "===\n",
      "/home/giang-trinh/git_repo/nfvs-motifs/Trappist-min-max-fix/models/CASCADE3\n",
      "Compute fixed points\n",
      "1 trap spaces 0.06\n",
      "===\n"
     ]
    }
   ],
   "source": [
    "bench_trappist(models, max=1000, timeout=120, method=\"asp\", computation=\"fix\", time_reversal=\"1\")"
   ]
  },
  {
   "cell_type": "code",
   "execution_count": 12,
   "id": "08b5ca4b",
   "metadata": {},
   "outputs": [
    {
     "name": "stdout",
     "output_type": "stream",
     "text": [
      "/home/giang-trinh/git_repo/nfvs-motifs/Trappist-min-max-fix/models/A_model\n",
      "2 trap spaces 0.17\n",
      "===\n",
      "/home/giang-trinh/git_repo/nfvs-motifs/Trappist-min-max-fix/models/EMT\n",
      "26 trap spaces 0.85\n",
      "===\n",
      "/home/giang-trinh/git_repo/nfvs-motifs/Trappist-min-max-fix/models/CASCADE2\n",
      "1 trap spaces 3.84\n",
      "===\n",
      "/home/giang-trinh/git_repo/nfvs-motifs/Trappist-min-max-fix/models/CASCADE1\n",
      "0 trap spaces 0.06\n",
      "===\n",
      "/home/giang-trinh/git_repo/nfvs-motifs/Trappist-min-max-fix/models/CASCADE3\n",
      "4 trap spaces 38.08\n",
      "===\n"
     ]
    }
   ],
   "source": [
    "bench_pyboolnet(models, max=1000, timeout=120, computation=\"max\")"
   ]
  },
  {
   "cell_type": "code",
   "execution_count": 13,
   "id": "299d8548",
   "metadata": {},
   "outputs": [
    {
     "name": "stdout",
     "output_type": "stream",
     "text": [
      "/home/giang-trinh/git_repo/nfvs-motifs/Trappist-min-max-fix/models/A_model\n",
      "2 trap spaces 0.17\n",
      "===\n",
      "/home/giang-trinh/git_repo/nfvs-motifs/Trappist-min-max-fix/models/EMT\n",
      "268 trap spaces 0.89\n",
      "===\n",
      "/home/giang-trinh/git_repo/nfvs-motifs/Trappist-min-max-fix/models/CASCADE2\n",
      "1 trap spaces 3.86\n",
      "===\n",
      "/home/giang-trinh/git_repo/nfvs-motifs/Trappist-min-max-fix/models/CASCADE1\n",
      "1 trap spaces 0.03\n",
      "===\n",
      "/home/giang-trinh/git_repo/nfvs-motifs/Trappist-min-max-fix/models/CASCADE3\n",
      "1 trap spaces 38.25\n",
      "===\n"
     ]
    }
   ],
   "source": [
    "bench_pyboolnet(models, max=1000, timeout=120, computation=\"min\")"
   ]
  },
  {
   "cell_type": "code",
   "execution_count": 14,
   "id": "42109de9",
   "metadata": {},
   "outputs": [
    {
     "name": "stdout",
     "output_type": "stream",
     "text": [
      "/home/giang-trinh/git_repo/nfvs-motifs/Trappist-min-max-fix/models/A_model\n",
      "0 trap spaces 0.16\n",
      "===\n",
      "/home/giang-trinh/git_repo/nfvs-motifs/Trappist-min-max-fix/models/EMT\n",
      "268 trap spaces 0.94\n",
      "===\n",
      "/home/giang-trinh/git_repo/nfvs-motifs/Trappist-min-max-fix/models/CASCADE2\n",
      "0 trap spaces 3.89\n",
      "===\n",
      "/home/giang-trinh/git_repo/nfvs-motifs/Trappist-min-max-fix/models/CASCADE1\n",
      "0 trap spaces 0.05\n",
      "===\n",
      "/home/giang-trinh/git_repo/nfvs-motifs/Trappist-min-max-fix/models/CASCADE3\n",
      "0 trap spaces 38.73\n",
      "===\n"
     ]
    }
   ],
   "source": [
    "bench_pyboolnet(models, max=1000, timeout=120, computation=\"fix\")"
   ]
  },
  {
   "cell_type": "code",
   "execution_count": null,
   "id": "84e242dc",
   "metadata": {},
   "outputs": [],
   "source": []
  }
 ],
 "metadata": {
  "kernelspec": {
   "display_name": "Python 3 (ipykernel)",
   "language": "python",
   "name": "python3"
  },
  "language_info": {
   "codemirror_mode": {
    "name": "ipython",
    "version": 3
   },
   "file_extension": ".py",
   "mimetype": "text/x-python",
   "name": "python",
   "nbconvert_exporter": "python",
   "pygments_lexer": "ipython3",
   "version": "3.9.12"
  }
 },
 "nbformat": 4,
 "nbformat_minor": 5
}
