{
 "cells": [
  {
   "cell_type": "markdown",
   "id": "4d42c676",
   "metadata": {},
   "source": [
    "# Initialization"
   ]
  },
  {
   "cell_type": "code",
   "execution_count": 2,
   "id": "9ba747d0",
   "metadata": {},
   "outputs": [
    {
     "data": {
      "text/plain": [
       "<function __main__.handler(_signnum, _frame)>"
      ]
     },
     "execution_count": 2,
     "metadata": {},
     "output_type": "execute_result"
    }
   ],
   "source": [
    "import os\n",
    "from pathlib import Path\n",
    "import signal\n",
    "import time\n",
    "import sys\n",
    "\n",
    "# PyBoolNet initialization\n",
    "from pyboolnet.repository import get_all_names, get_bnet\n",
    "from pyboolnet.file_exchange import bnet2primes\n",
    "from pyboolnet.trap_spaces import compute_trap_spaces, compute_steady_states\n",
    "\n",
    "# trappist init\n",
    "import trappist\n",
    "\n",
    "# timeout with signals\n",
    "class TimeOutException(Exception):\n",
    "   pass\n",
    "\n",
    "def handler(_signnum, _frame):\n",
    "    print(\"Timeout\")\n",
    "    raise TimeOutException()\n",
    "    raise AssertionError()\n",
    "    raise KeyboardInterrupt()\n",
    "    \n",
    "signal.signal(signal.SIGALRM, handler)"
   ]
  },
  {
   "cell_type": "code",
   "execution_count": 3,
   "id": "8f55c541",
   "metadata": {},
   "outputs": [],
   "source": [
    "# compute trap spaces using PyBoolNet\n",
    "def bench_pyboolnet(models, max=1000, timeout=120, computation=\"min\"):\n",
    "    for model in models:\n",
    "        print(model)\n",
    "        primes = None\n",
    "        signal.alarm(timeout)\n",
    "        try:\n",
    "            start = time.perf_counter()\n",
    "            primes = bnet2primes(model + \".bnet\")\n",
    "            if computation == \"fix\":\n",
    "                tspaces = compute_trap_spaces(primes, \"min\", max_output=max)\n",
    "            else:\n",
    "                tspaces = compute_steady_states(primes, max_output=max)\n",
    "            end = time.perf_counter()\n",
    "            print(f\"{len(tspaces)} trap spaces {end - start:.2f}\\n===\")\n",
    "        except:\n",
    "            print(f\"DNF{'(bnet2primes)' if primes is None else ''}\\n===\")\n",
    "        signal.alarm(0)"
   ]
  },
  {
   "cell_type": "code",
   "execution_count": 4,
   "id": "ff274323",
   "metadata": {},
   "outputs": [],
   "source": [
    "# compute trap spaces using trappist\n",
    "def bench_trappist(models, max=1000, timeout=120, method=\"asp\", computation=\"min\"):\n",
    "    for model in models:\n",
    "        print(model)\n",
    "        signal.alarm(timeout)\n",
    "        try:\n",
    "            start = time.process_time()\n",
    "            tspaces = trappist.compute_trap_spaces(model + \".bnet\", max_output=max, method=method, computation=computation)\n",
    "            print(f\"{len(list(tspaces))} trap spaces {time.process_time() - start:.2f}\\n===\")\n",
    "        except TimeOutException:\n",
    "            print(\"DNF\\n===\")\n",
    "        signal.alarm(0)"
   ]
  },
  {
   "cell_type": "markdown",
   "id": "645d664f",
   "metadata": {},
   "source": [
    "## Real models from the literature"
   ]
  },
  {
   "cell_type": "code",
   "execution_count": 5,
   "id": "6ca3c81b",
   "metadata": {},
   "outputs": [],
   "source": [
    "# all models from the trappist's benchmark directory\n",
    "models = [str(Path().absolute() / \"models\" / name[:-5]) for name in os.listdir(\"models\") if name.endswith(\".bnet\")]"
   ]
  },
  {
   "cell_type": "code",
   "execution_count": 6,
   "id": "2458786b",
   "metadata": {},
   "outputs": [
    {
     "name": "stdout",
     "output_type": "stream",
     "text": [
      "/home/giang-trinh/working/Trappist-min-max-fix/models/reduced-SIGNALING-IN-PROSTATE-CANCER_full\n",
      "Compute min. trap spaces\n",
      "24800 trap spaces 2.44\n",
      "===\n",
      "/home/giang-trinh/working/Trappist-min-max-fix/models/reduced-TLGLSurvival\n",
      "Compute min. trap spaces\n",
      "3236 trap spaces 0.15\n",
      "===\n",
      "/home/giang-trinh/working/Trappist-min-max-fix/models/reduced-IL_6_Signalling_full\n",
      "Compute min. trap spaces\n",
      "32768 trap spaces 0.89\n",
      "===\n",
      "/home/giang-trinh/working/Trappist-min-max-fix/models/reduced-CASCADE3\n",
      "Compute min. trap spaces\n",
      "58 trap spaces 0.05\n",
      "===\n",
      "/home/giang-trinh/working/Trappist-min-max-fix/models/reduced-A_model\n",
      "Compute min. trap spaces\n",
      "14 trap spaces 0.04\n",
      "===\n"
     ]
    }
   ],
   "source": [
    "bench_trappist(models, max=0, timeout=120, method=\"asp\", computation=\"min\")"
   ]
  },
  {
   "cell_type": "code",
   "execution_count": 7,
   "id": "a8fa818d",
   "metadata": {},
   "outputs": [
    {
     "name": "stdout",
     "output_type": "stream",
     "text": [
      "/home/giang-trinh/working/Trappist-min-max-fix/models/reduced-SIGNALING-IN-PROSTATE-CANCER_full\n",
      "Compute max. trap spaces\n",
      "35 trap spaces 0.11\n",
      "===\n",
      "/home/giang-trinh/working/Trappist-min-max-fix/models/reduced-TLGLSurvival\n",
      "Compute max. trap spaces\n",
      "27 trap spaces 0.02\n",
      "===\n",
      "/home/giang-trinh/working/Trappist-min-max-fix/models/reduced-IL_6_Signalling_full\n",
      "Compute max. trap spaces\n",
      "34 trap spaces 0.01\n",
      "===\n",
      "/home/giang-trinh/working/Trappist-min-max-fix/models/reduced-CASCADE3\n",
      "Compute max. trap spaces\n",
      "19 trap spaces 0.09\n",
      "===\n",
      "/home/giang-trinh/working/Trappist-min-max-fix/models/reduced-A_model\n",
      "Compute max. trap spaces\n",
      "13 trap spaces 0.02\n",
      "===\n"
     ]
    }
   ],
   "source": [
    "bench_trappist(models, max=0, timeout=120, method=\"asp\", computation=\"max\")"
   ]
  },
  {
   "cell_type": "code",
   "execution_count": 8,
   "id": "4bf5f4c7",
   "metadata": {},
   "outputs": [
    {
     "name": "stdout",
     "output_type": "stream",
     "text": [
      "/home/giang-trinh/working/Trappist-min-max-fix/models/reduced-SIGNALING-IN-PROSTATE-CANCER_full\n",
      "Compute fixed points\n",
      "24800 trap spaces 2.37\n",
      "===\n",
      "/home/giang-trinh/working/Trappist-min-max-fix/models/reduced-TLGLSurvival\n",
      "Compute fixed points\n",
      "3236 trap spaces 0.11\n",
      "===\n",
      "/home/giang-trinh/working/Trappist-min-max-fix/models/reduced-IL_6_Signalling_full\n",
      "Compute fixed points\n",
      "32768 trap spaces 0.88\n",
      "===\n",
      "/home/giang-trinh/working/Trappist-min-max-fix/models/reduced-CASCADE3\n",
      "Compute fixed points\n",
      "58 trap spaces 0.05\n",
      "===\n",
      "/home/giang-trinh/working/Trappist-min-max-fix/models/reduced-A_model\n",
      "Compute fixed points\n",
      "14 trap spaces 0.02\n",
      "===\n"
     ]
    }
   ],
   "source": [
    "bench_trappist(models, max=0, timeout=120, method=\"asp\", computation=\"fix\")"
   ]
  },
  {
   "cell_type": "code",
   "execution_count": 6,
   "id": "6f4a2d1d",
   "metadata": {},
   "outputs": [
    {
     "name": "stdout",
     "output_type": "stream",
     "text": [
      "/home/giang-trinh/working/Trappist-min-max-fix/models/reduced-SIGNALING-IN-PROSTATE-CANCER_full\n",
      "Timeout\n",
      "DNF(bnet2primes)\n",
      "===\n",
      "/home/giang-trinh/working/Trappist-min-max-fix/models/reduced-TLGLSurvival\n",
      "3236 trap spaces 0.49\n",
      "===\n",
      "/home/giang-trinh/working/Trappist-min-max-fix/models/reduced-IL_6_Signalling_full\n",
      "32768 trap spaces 5.39\n",
      "===\n",
      "/home/giang-trinh/working/Trappist-min-max-fix/models/reduced-CASCADE3\n",
      "58 trap spaces 0.66\n",
      "===\n",
      "/home/giang-trinh/working/Trappist-min-max-fix/models/reduced-A_model\n",
      "14 trap spaces 0.14\n",
      "===\n"
     ]
    }
   ],
   "source": [
    "bench_pyboolnet(models, max=100000, timeout=120, computation=\"min\")"
   ]
  },
  {
   "cell_type": "code",
   "execution_count": 7,
   "id": "299d8548",
   "metadata": {},
   "outputs": [
    {
     "name": "stdout",
     "output_type": "stream",
     "text": [
      "/home/giang-trinh/working/Trappist-min-max-fix/models/reduced-SIGNALING-IN-PROSTATE-CANCER_full\n",
      "Timeout\n",
      "DNF(bnet2primes)\n",
      "===\n",
      "/home/giang-trinh/working/Trappist-min-max-fix/models/reduced-TLGLSurvival\n",
      "3236 trap spaces 0.47\n",
      "===\n",
      "/home/giang-trinh/working/Trappist-min-max-fix/models/reduced-IL_6_Signalling_full\n",
      "32768 trap spaces 5.23\n",
      "===\n",
      "/home/giang-trinh/working/Trappist-min-max-fix/models/reduced-CASCADE3\n",
      "58 trap spaces 0.61\n",
      "===\n",
      "/home/giang-trinh/working/Trappist-min-max-fix/models/reduced-A_model\n",
      "14 trap spaces 0.13\n",
      "===\n"
     ]
    }
   ],
   "source": [
    "bench_pyboolnet(models, max=100000, timeout=120, computation=\"max\")"
   ]
  },
  {
   "cell_type": "code",
   "execution_count": 8,
   "id": "42109de9",
   "metadata": {},
   "outputs": [
    {
     "name": "stdout",
     "output_type": "stream",
     "text": [
      "/home/giang-trinh/working/Trappist-min-max-fix/models/reduced-SIGNALING-IN-PROSTATE-CANCER_full\n",
      "Timeout\n",
      "DNF(bnet2primes)\n",
      "===\n",
      "/home/giang-trinh/working/Trappist-min-max-fix/models/reduced-TLGLSurvival\n",
      "3236 trap spaces 0.36\n",
      "===\n",
      "/home/giang-trinh/working/Trappist-min-max-fix/models/reduced-IL_6_Signalling_full\n",
      "32768 trap spaces 4.95\n",
      "===\n",
      "/home/giang-trinh/working/Trappist-min-max-fix/models/reduced-CASCADE3\n",
      "58 trap spaces 0.62\n",
      "===\n",
      "/home/giang-trinh/working/Trappist-min-max-fix/models/reduced-A_model\n",
      "14 trap spaces 0.14\n",
      "===\n"
     ]
    }
   ],
   "source": [
    "bench_pyboolnet(models, max=100000, timeout=120, computation=\"fix\")"
   ]
  },
  {
   "cell_type": "code",
   "execution_count": null,
   "id": "84e242dc",
   "metadata": {},
   "outputs": [],
   "source": []
  }
 ],
 "metadata": {
  "kernelspec": {
   "display_name": "Python 3 (ipykernel)",
   "language": "python",
   "name": "python3"
  },
  "language_info": {
   "codemirror_mode": {
    "name": "ipython",
    "version": 3
   },
   "file_extension": ".py",
   "mimetype": "text/x-python",
   "name": "python",
   "nbconvert_exporter": "python",
   "pygments_lexer": "ipython3",
   "version": "3.9.12"
  }
 },
 "nbformat": 4,
 "nbformat_minor": 5
}
